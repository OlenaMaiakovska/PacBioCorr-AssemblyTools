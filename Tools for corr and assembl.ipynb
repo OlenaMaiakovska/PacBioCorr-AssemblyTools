{
 "cells": [
  {
   "cell_type": "markdown",
   "metadata": {},
   "source": [
    "# Overview\n",
    "\n",
    "| Tool | Link | Function|\n",
    "|------------|-----|----|\n",
    "| LSC 2      | http://www.healthcare.uiowa.edu/labs/au/LSC/default.asp  |long read error correction|\n",
    "|  Proovread | https://github.com/BioInf-Wuerzburg/proovread               | long read error correction|\n",
    "| Lordec | http://www.atgc-montpellier.fr/lordec/                 | long read error correction|\n",
    "| HALC  |https://github.com/lanl001/halc             | long read error correction |\n",
    "|PBJelly| https://sourceforge.net/p/pb-jelly/wiki/Home/?#058c |  gapclosing |\n",
    "|Canu | http://canu.readthedocs.io/en/latest/index.html | hybrid assembling |\n",
    "|MaSuRCA | http://www.genome.umd.edu/masurca.html|  hybrid assembling|\n",
    "\n",
    "\n",
    "\n",
    "| Correctors | Number of threads |\n",
    "|------------|-------------------|\n",
    "    | LSC 2      | 8                 |\n",
    "    |  Proovread | 8                 |\n",
    "    |HALC | 8                 |\n",
    "    | Lordec     | 8                 |\n",
    "\n"
   ]
  },
  {
   "cell_type": "markdown",
   "metadata": {},
   "source": [
    "\n",
    "    Cluster node configuration:\n",
    "    Number of CPU: 40\n",
    "    CPU frequency: 2.6 GHz\n",
    "    Available RAM: 256 GBytes"
   ]
  },
  {
   "cell_type": "markdown",
   "metadata": {},
   "source": [
    "# Long Read Correction: Hybrid correctors (short and long reads):"
   ]
  },
  {
   "cell_type": "markdown",
   "metadata": {},
   "source": [
    "## 1. LSC-2\n",
    "#### Introduction\n",
    "LSC-2 is an hybrid corrector of long reads. Long reads and short reads are first compressed into\n",
    "homopolymers, then short reads are mapped to long reads with Bowtie2. Finally, the short read\n",
    "consensus replaces the long read sequences.\n",
    "Website: http://www.healthcare.uiowa.edu/labs/au/LSC/default.asp\n",
    "\n",
    "#### Installation\n",
    "LSC-2 can be downloaded as pre-compiled binaries. Bowtie2 is required and must be installed.\n",
    "Extraction of pre-compiled binaries files:\n",
    "$ tar zxvf LSC-2.0.tar.gz\n",
    "\n",
    "#### Input data\n",
    "LSC-2 takes FASTA or FASTQ files as input.\n",
    "#### Pipeline\n",
    "+ runLSC script divides long read error correction into 5 steps:\n",
    "    - The sequences of long and the short reads are transformed by homopolymer compression\n",
    "so that each sequence of the same nucleotide is replaced by a single nucleotide of the same\n",
    "type.\n",
    "    - The short reads quality is checked. Indeed, some of these reads contain too much N letters\n",
    "or are too short.\n",
    "    - The short reads are aligned against the long ones with Bowtie2.\n",
    "    - The long reads are then modified according to the information provided by the short read\n",
    "consensus obtained with previous alignment.\n",
    "    - Once the correction points have been replaced by the corresponding short reads consensus,\n",
    "the rest of the compressed points are decompressed.\n"
   ]
  },
  {
   "cell_type": "code",
   "execution_count": null,
   "metadata": {},
   "outputs": [],
   "source": [
    "runLSC.py --long_reads LR.fa --short_reads SR.fa --specific_tempdir temp --output output_dir"
   ]
  },
  {
   "cell_type": "markdown",
   "metadata": {},
   "source": [
    "• longs reads : long read file.\n",
    "• short reads : short read file.\n",
    "• specific tempdir : folder containing temporary files (optional).\n",
    "• output : final assembly folder.\n",
    "\n",
    "#### Encountered errors\n",
    "Died at /LSC-2.0/bin/../utilities/explode fasta.pl\n",
    "ValueError: invalid literal for int() with base 10: ”\n",
    "    - solution : Convert short reads from FASTQ format to FASTA format (AWK command line or Biopython Seq.IO module)\n",
    "</p> [bam header read] EOF marker is absent. The input is probably truncated.\n",
    "    - solution : Install Bowtie2.\n",
    "#### Output data\n",
    "The corrected sequences are written into the ”corrected read.fasta” file, while full LR.fasta file\n",
    "contains concatenate uncorrected terminus sequences and corrected sequences. Both files are\n",
    "located in the final assembly folder."
   ]
  },
  {
   "cell_type": "markdown",
   "metadata": {},
   "source": [
    "## 2. Proovread\n",
    "#### Introduction\n",
    "Proovread is a de novo corrector, using a de-Bruijn graph constructed from long reads.\n",
    "Website : https://github.com/BioInf-Wuerzburg/proovread\n",
    "#### Installation\n",
    "Proovread is available on Linux and requires NCBI Blast-2.2.24+, samtools-1.1+, Perl 5.10.1+\n",
    "and the perl moduls Log::Log4perl and File::Which.\n",
    "#### Code source compilation:"
   ]
  },
  {
   "cell_type": "code",
   "execution_count": null,
   "metadata": {},
   "outputs": [],
   "source": [
    "$ git clone --recursive https://github.com/BioInf-Wuerzburg/proovread\n",
    "$ cd proovread/util/bwa\n",
    "$ make"
   ]
  },
  {
   "cell_type": "markdown",
   "metadata": {},
   "source": [
    "#### Input data\n",
    "In order to not overload the processor and the memory, it is wise to divide the long reads data\n",
    "(FASTA, FASTQ) into several files:"
   ]
  },
  {
   "cell_type": "code",
   "execution_count": null,
   "metadata": {},
   "outputs": [],
   "source": [
    "$ SeqChunker -s 20M -o 0%03d pacbio_file"
   ]
  },
  {
   "cell_type": "markdown",
   "metadata": {},
   "source": [
    "    - s : file length\n",
    "    - o : output file name\n",
    "#### Pipeline\n",
    "Run the long read error correction process with the binary ”proovread”, located in the folder\n",
    "”bin”, for every folders created in the previous step:"
   ]
  },
  {
   "cell_type": "code",
   "execution_count": null,
   "metadata": {},
   "outputs": [],
   "source": [
    "$ for i in {0001..000n}; do proovread -l $i -s /Path/to/short_reads {pre pb_$i; done"
   ]
  },
  {
   "cell_type": "markdown",
   "metadata": {},
   "source": [
    "    - n : Number of files generated by SeqChunker\n",
    "    - l : raw noisy long reads\n",
    "    - s : file containing accurate short reads\n",
    "    - pre : prefix used to name output file.\n",
    "It is also possible to add unitigs with the argument ”-unitigs”.\n",
    "+ Proovread corrects long reads in 2 steps:\n",
    "    - The mapping of short reads on long reads is done by SHRIMP2, by adapting the score\n",
    "mode to consider that insertions are more frequent than deletions and that substitutions\n",
    "are rare events. Bowtie2 and bwa mem are also supported.\n",
    "    - A consensus sequence is computed from these alignments.\n",
    "    \n",
    "#### Output data\n",
    "The corrected sequences are written in the specified output folder (trimmed and untrimmed\n",
    "reads)"
   ]
  },
  {
   "cell_type": "markdown",
   "metadata": {},
   "source": [
    "## 3. LoRDEC\n",
    "#### Introduction\n",
    "LoRDEC is an hybrid corrector, using a de-Bruijn graph constructed from short reads to correct\n",
    "long reads. Website : http://www.atgc-montpellier.fr/lordec/\n",
    "#### Installation\n",
    "LoRDEC is available on linux and requires Cmake 2.6+ and GCC 4.7+.\n",
    "+ Import LoRDEC and the GATB library (http://gatb-core.gforge.inria.fr/) :"
   ]
  },
  {
   "cell_type": "code",
   "execution_count": null,
   "metadata": {},
   "outputs": [],
   "source": [
    "$ wget http://www.atgc-montpellier.fr/download/sources/lordec/LoRDEC-0.6.tar.gz\n",
    "$ tar zxvf LoRDEC-0.6.tar.gz\n",
    "$ cd LoRDEC-0.6\n",
    "$ wget https://github.com/GATB/gatb-core/releases/download/v1.1.0/ \\gatb-core-1.1.0-bin-Linux.tar.gz\n",
    "$ tar zxvf gatb-core-1.1.0-bin-Linux.tar.gz"
   ]
  },
  {
   "cell_type": "markdown",
   "metadata": {},
   "source": [
    "Modify the variable GATB VER from the Makefile (1.1.0) Install LoRDEC"
   ]
  },
  {
   "cell_type": "code",
   "execution_count": null,
   "metadata": {},
   "outputs": [],
   "source": [
    "$ make\n",
    "$ cd .."
   ]
  },
  {
   "cell_type": "markdown",
   "metadata": {},
   "source": [
    "#### Input data\n",
    "LoRDEC requires short reads in FASTA or FASTQ file format and long reads in FASTA or\n",
    "FASTQ file format.\n",
    "#### Pipeline\n",
    "Run the long read error correction with the binary ”lordec-correct”:"
   ]
  },
  {
   "cell_type": "code",
   "execution_count": null,
   "metadata": {},
   "outputs": [],
   "source": [
    "$ lordec-correct -2 illumina.fasta -k 19 -s 3 -i pacbio.fasta \\\n",
    "-o pacbio-corrected.fasta"
   ]
  },
  {
   "cell_type": "markdown",
   "metadata": {},
   "source": [
    "    - 2 : File of short reads.\n",
    "    - k : Size of the kmer used in the de-Bruijn graph\n",
    "    - s : Abundance threshold of a kmer to be considered correct\n",
    "    - i : Input file\n",
    "    - o : Output file"
   ]
  },
  {
   "cell_type": "markdown",
   "metadata": {},
   "source": [
    "A series of steps is then performed in order to correct the long reads:\n",
    "     1. Construction of a de-Bruijn graph from the short reads\n",
    "     2. Suppression of k-mer with occurrence less than the s value\n",
    "     3. Choose an optimal path of the graph by calculating the edit distance between the path and a region of long read.\n",
    "#### Output data\n",
    "The corrected sequences will be in the output file indicated after the ”-o” parameter. The output\n",
    "file in FASTA format contains long reads. Corrected sequences are defined by uppercase letters\n",
    "while uncorrected sequences appears as lowercase letters. Lordec offers the possibility to remove\n",
    "the uncorrected sequences at the beginning and at the end of the long reading or to keep only\n",
    "the corrected sequences."
   ]
  },
  {
   "cell_type": "code",
   "execution_count": null,
   "metadata": {},
   "outputs": [],
   "source": [
    "$ lordec-trim -i fichier_reads.fasta -o fichier_trim.fasta"
   ]
  },
  {
   "cell_type": "markdown",
   "metadata": {},
   "source": [
    "    i : corrected reads file\n",
    "    o : output file\n"
   ]
  },
  {
   "cell_type": "code",
   "execution_count": null,
   "metadata": {},
   "outputs": [],
   "source": [
    "$ loredec-trim-split -i fichier_reads.fasta -o fichier_trim_split.fasta"
   ]
  },
  {
   "cell_type": "markdown",
   "metadata": {},
   "source": [
    "## 4. HALC\n",
    "#### Introduction\n",
    "HALC is software that makes error correction for long reads with high throughput.\n",
    "#### Installation\n",
    "Aligner BLASR and error correction software LoRDEC (only for -ordinary mode) are required to run HALC.\n",
    "\n",
    "    The source files in 'src' and 'thirdparty' folders can be compiled to generate a 'bin' folder by running Makefile: make all.\n",
    "    Put BLASR, LoRDEC and the 'bin' folder to your $PATH: export PATH=PATH2BLASR:$PATH , export PATH=PATH2LoRDEC:$PATH and export PATH=PATH2bin:$PATH, respectively.\n",
    "#### Input data\n",
    "\n",
    "    - Long reads in FASTA format.\n",
    "    - Contigs assembled from the corresponding short reads in FASTA format.\n",
    "    - The initial short reads in FASTA format (only for -ordinary mode; obtained with  cat left_reads.fa >short_reads.fa and  then cat right_reads.fa >>short_reads.fa)\n"
   ]
  },
  {
   "cell_type": "markdown",
   "metadata": {},
   "source": [
    "#### Pipeline\n",
    "runHALC.py long_reads.fa contigs.fa [-options|-options]"
   ]
  },
  {
   "cell_type": "code",
   "execution_count": null,
   "metadata": {},
   "outputs": [],
   "source": [
    "$ runHALC.py long_reads.fa contigs.fa -b 4 -a -w 2 -k 25 -t 8"
   ]
  },
  {
   "cell_type": "markdown",
   "metadata": {},
   "source": [
    "$ runHALC.py long_reads.fa contigs.fa -o short_reads.fa -b 4 -a -w 2 -k 25 -t 8\n",
    "# or scaffolds instead of contigs."
   ]
  },
  {
   "cell_type": "markdown",
   "metadata": {},
   "source": [
    "#### Output data"
   ]
  },
  {
   "cell_type": "markdown",
   "metadata": {},
   "source": [
    "\n",
    "    Error corrected full long reads.\n",
    "    Error corrected trimmed long reads.\n",
    "    Error corrected split long reads.\n"
   ]
  },
  {
   "cell_type": "markdown",
   "metadata": {},
   "source": [
    "# PBJelly gapclosing\n",
    "PBJelly can be used to try to close or shrink gaps that may be present between contigs after scaffolding.\n",
    "### Requirements:\n",
    "\n",
    "\n",
    "    Blasr (https://github.com/PacificBiosciences/blasr)\n",
    "    Version 1.3.1.127046 is fully vetted as compatible with\n",
    "    Jelly. Other versions may run into problems. Use\n",
    "    > blasr -version\n",
    "    to figure out what you have. Blasr must be in your environment\n",
    "    path.\n",
    "\n",
    "    Python 2.7\n",
    "    Python must be in your environment path and executable with\n",
    "    the commands:\n",
    "    > python\n",
    "    > /usr/bin/env python\n",
    "\n",
    "    Networkx v1.1\n",
    "    Versions past v1.1 have been shown to have many issues. This will\n",
    "    be updated in the future. To check your version use, in a python\n",
    "    interactive terminal, type:\n",
    "    > import networkx\n",
    "    > networkx.version\n",
    "    If you get an error saying the attribute isn't found, you don't have\n",
    "    version 1.1 \n",
    "    \n",
    "    https://sourceforge.net/p/pb-jelly/wiki/Home/\n",
    "    https://github.com/alvaralmstedt/Tutorials/wiki/Gap-closing-with-PBJelly\n",
    "    \n"
   ]
  },
  {
   "cell_type": "markdown",
   "metadata": {},
   "source": [
    "# Hybrid Assembly:\n",
    "This process is usually carried out by a pre-assembly of short fragments and subsequent joining of contigs using long reads to correctly order the sequences and fill gaps [5] ;  [6]. An opposite strategy is to employ long reads as a scaffold for assembly of short reads [7]; [8] ;  [9]. However, as concluded in one of the recent studies, the highest efficiency in genome assembly is obtained with approaches that are based on use of the high-accuracy Illumina sequencing data for correction of the PacBio SMRT or Nanopore sequencing results"
   ]
  },
  {
   "cell_type": "markdown",
   "metadata": {},
   "source": [
    "# 1. Canu\n",
    "#### Introduction\n",
    "is a fork of the Celera Assembler designed for high-noise single-molecule sequencing (such as the PacBio RSII or Oxford Nanopore MinION)\n",
    "\n",
    "#### Installation\n"
   ]
  },
  {
   "cell_type": "code",
   "execution_count": null,
   "metadata": {},
   "outputs": [],
   "source": [
    "\n",
    "git clone https://github.com/marbl/canu.git\n",
    "cd canu/src\n",
    "make -j <number of threads>\n"
   ]
  },
  {
   "cell_type": "code",
   "execution_count": null,
   "metadata": {},
   "outputs": [],
   "source": [
    "canu [-correct | -trim | -assemble | -trim-assemble] \\\n",
    "  [-s <assembly-specifications-file>] \\\n",
    "   -p <assembly-prefix> \\\n",
    "   -d <assembly-directory> \\\n",
    "   genomeSize=<number>[g|m|k] \\\n",
    "   [other-options] \\\n",
    "   [-pacbio-raw | -pacbio-corrected | -nanopore-raw | -nanopore-corrected] *fastq"
   ]
  },
  {
   "cell_type": "markdown",
   "metadata": {},
   "source": [
    "The -p option, to set the file name prefix of intermediate and output files, is mandatory. If -d is not supplied, canu will run in the current directory, otherwise, Canu will create the assembly-directory and run in that directory. It is _not_ possible to run two different assemblies in the same directory.\n",
    "\n",
    "The -s option will import a list of parameters from the supplied specification (‘spec’) file. These parameters will be applied before any from the command line are used, providing a method for setting commonly used parameters, but overriding them for specific assemblies.\n",
    "\n",
    "By default, all three top-level tasks are performed. It is possible to run exactly one task by using the -correct, -trim or -assemble options.  Additionally, suppling pre-corrected reads with -pacbio-corrected or -nanopore-corrected will run only the trimming (-trim) and assembling (-assemble) stages.\n",
    "\n",
    "One parameter is required: the genomeSize (in bases, with common SI prefixes allowed, for example, 4.7m or 2.8g"
   ]
  },
  {
   "cell_type": "markdown",
   "metadata": {},
   "source": [
    "#### Pipeline\n"
   ]
  },
  {
   "cell_type": "markdown",
   "metadata": {},
   "source": [
    "![title](http://canu.readthedocs.io/en/latest/_images/canu-pipeline.svg)"
   ]
  },
  {
   "cell_type": "markdown",
   "metadata": {},
   "source": [
    "1. Correction:"
   ]
  },
  {
   "cell_type": "code",
   "execution_count": null,
   "metadata": {},
   "outputs": [],
   "source": [
    "canu -correct \\\n",
    "  -p ecoli -d ecoli \\\n",
    "  genomeSize=4.8m \\\n",
    "  -pacbio-raw  pacbio.fastq\n"
   ]
  },
  {
   "cell_type": "markdown",
   "metadata": {},
   "source": [
    "Then, trim the output of the correction:"
   ]
  },
  {
   "cell_type": "code",
   "execution_count": null,
   "metadata": {},
   "outputs": [],
   "source": [
    "canu -trim \\\n",
    "  -p ecoli -d ecoli \\\n",
    "  genomeSize=4.8m \\\n",
    "  -pacbio-corrected ecoli/ecoli.correctedReads.fasta.gz"
   ]
  },
  {
   "cell_type": "markdown",
   "metadata": {},
   "source": [
    "And finally, assemble the output of trimming, twice, with different stringency on which overlaps to use (see correctedErrorRate):"
   ]
  },
  {
   "cell_type": "code",
   "execution_count": null,
   "metadata": {},
   "outputs": [],
   "source": [
    "canu -assemble \\\n",
    "  -p ecoli -d ecoli-erate-0.039 \\\n",
    "  genomeSize=4.8m \\\n",
    "  correctedErrorRate=0.039 \\\n",
    "  -pacbio-corrected ecoli/ecoli.trimmedReads.fasta.gz\n",
    "\n",
    "canu -assemble \\\n",
    "  -p ecoli -d ecoli-erate-0.075 \\\n",
    "  genomeSize=4.8m \\\n",
    "  correctedErrorRate=0.075 \\\n",
    "  -pacbio-corrected ecoli/ecoli.trimmedReads.fasta.gz"
   ]
  },
  {
   "cell_type": "markdown",
   "metadata": {},
   "source": [
    "Note that the assembly stages use different ‘-d’ directories. It is not possible to run multiple copies of canu with the same work directory."
   ]
  },
  {
   "cell_type": "markdown",
   "metadata": {},
   "source": [
    "\n",
    "#### Consensus Accuracy\n",
    "\n",
    "Canu consensus sequences are typically well above 99% identity. Accuracy can be improved by polishing the contigs with tools developed specifically for that task. We recommend Quiver (https://github.com/PacificBiosciences/GenomicConsensus) for PacBio and Nanopolish for Oxford Nanpore data. When Illumina reads are available, Pilon (http://software.broadinstitute.org/software/pilon/) can be used to polish either PacBio or Oxford Nanopore assemblies.\n"
   ]
  },
  {
   "cell_type": "markdown",
   "metadata": {},
   "source": [
    "# 2. MaSuRCA\n",
    "#### Introduction\n",
    "assembler combines the benefits of deBruijn graph and Overlap Layout Consensus assembly approaches. \n",
    "Since version 3.2.1 itsupports hybrid assembly with short Illumina reads and long high error PacBio/MinION data"
   ]
  },
  {
   "cell_type": "markdown",
   "metadata": {},
   "source": [
    "#### Compile/Install\n",
    "To compile the assembler we require gcc version 4.7 or newer to be installed on the system.\n",
    "The assembler has been tested on the following distributions:\n",
    "    - Fedora 12 and up\n",
    "    - RedHat 5 and 6 (requires installation of gcc 4.7)\n",
    "    - CentOS 5 and 6 (requires installation of gcc 4.7)\n",
    "    - Ubuntu 12 LTS and up\n",
    "    - SUSE Linux 16and up\n",
    "#### Hardware requirements\n",
    "The hardware requirements vary with the size of the genome project. Both Intel and AMD x64 architectures are\n",
    "supported. The general guidelines for hardware: Mammalian genomes (up \n",
    "to 3Gb): 512Gb RAM, 32+ cores, 5Tb disk space;\n",
    "Expected run times: Mammalian genomes (up to 3Gb): 15-20 days"
   ]
  },
  {
   "cell_type": "markdown",
   "metadata": {},
   "source": [
    "#### Installation\n",
    "To install, first download the latest distribution from \n",
    "ftp://ftp.genome.umd.edu/pub/MaSuRCA/\n",
    ". Then untar/unzip the package MaSuRCA\n",
    "-\n",
    "X.X.X.tgz, \n",
    "cd to the resulting folder and run './install.sh'.  The installation script will configure and make all \n",
    "necessary packages.\n",
    "In the rest of this document, '/install_path' refers to a path to the directory in which './install.sh' \n",
    "was run.\n",
    "\n",
    "IMPORTANT! Do not preprocess Illumina data before providing it to MaSuRCA.  Do not do any \n",
    "trimming, cleaning or error correction. This WILL deteriorate the assembly.\n",
    "\n",
    "First, \n",
    "create a configuration file which contains the location of the compiled assembler, the \n",
    "location of the data and\n",
    "some parameters. Copy in your assembly directory the template \n",
    "configuration file '/install_path/sr_config_example.txt' which was created by the \n",
    "installer with \n",
    "the correct paths to the freshly compiled software and with reasonable parameters. Many \n",
    "assembly projects should only need to set the path to the input data.\n",
    "Second, run the '\n",
    "masurca\n",
    "' script which will generate from the configuration file a\n",
    "shell script \n",
    "'assemble.sh'. This last script is the main driver of the assembly.\n",
    "Finally, run the script 'assemble.sh' to assemble the data.\n",
    "\n",
    "\n",
    "Configuration\n",
    ". To run the assembler, one must first create a configuration file that specifies the \n",
    "location of the executables, data and assembly parameters for the assembler. The installation \n",
    "script will create a sample config file 'sr_config_example.txt'. The sample configuration file looks like this:"
   ]
  },
  {
   "cell_type": "markdown",
   "metadata": {},
   "source": [
    "ftp://ftp.genome.umd.edu/pub/MaSuRCA/MaSuRCA_QuickStartGuide.pdf"
   ]
  }
 ],
 "metadata": {
  "kernelspec": {
   "display_name": "Bash",
   "language": "bash",
   "name": "bash"
  },
  "language_info": {
   "codemirror_mode": "shell",
   "file_extension": ".sh",
   "mimetype": "text/x-sh",
   "name": "bash"
  }
 },
 "nbformat": 4,
 "nbformat_minor": 2
}
